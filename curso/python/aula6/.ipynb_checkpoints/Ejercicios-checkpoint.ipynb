{
 "cells": [
  {
   "cell_type": "markdown",
   "metadata": {},
   "source": [
    "1. Escriba un programa que lea un entero (input), lo multiplique por 3 y lo imprima."
   ]
  },
  {
   "cell_type": "code",
   "execution_count": null,
   "metadata": {},
   "outputs": [],
   "source": [
    "x = int(input(\"introduce un numero que quieras multiplicar \"))\n",
    "y = x * 3\n",
    "print(y)"
   ]
  },
  {
   "cell_type": "markdown",
   "metadata": {},
   "source": [
    "2. Escribir un programa que pida al cliente la longitud y ancho de la habitación e\n",
    "imprima la superficie de la habitación, los valores podrán tener decimales.\n",
    "Formato de salida deseado: xx.yy m^2"
   ]
  },
  {
   "cell_type": "code",
   "execution_count": 12,
   "metadata": {},
   "outputs": [
    {
     "name": "stdout",
     "output_type": "stream",
     "text": [
      "introduce la longitud de la habitacion 2.6\n",
      "introduce el ancho de la habitacion 5.9\n",
      "La habitacion mide 15.340000000000002 m²\n"
     ]
    }
   ],
   "source": [
    "x = float(input(\"introduce la longitud de la habitacion \"))\n",
    "y = float(input(\"introduce el ancho de la habitacion \"))\n",
    "print(f\"La habitacion mide {y * x} m²\") "
   ]
  },
  {
   "cell_type": "markdown",
   "metadata": {},
   "source": [
    "3. Determinar el área y volumen de un cilindro cuyas dimensiones (radio - altura) se lean desde el teclado.\n",
    "Formato de salida deseado: xx.yy m^3"
   ]
  },
  {
   "cell_type": "code",
   "execution_count": 20,
   "metadata": {},
   "outputs": [
    {
     "name": "stdout",
     "output_type": "stream",
     "text": [
      "introduce el radio del cilindro 8\n",
      "introduce la altura del cilindro 15\n",
      "El area del cilindro es 402.114048 m³\n",
      "El volumen del cilindro es 3015.85536 m³\n"
     ]
    }
   ],
   "source": [
    "x = int(input(\"introduce el radio del cilindro \"))\n",
    "y = int(input(\"introduce la altura del cilindro \"))\n",
    "print(f\"El area del cilindro es {(2 * (3.141516 * x * x))} m³\")\n",
    "print(f\"El volumen del cilindro es {3.141516 * x * x * y} m³\")"
   ]
  },
  {
   "cell_type": "markdown",
   "metadata": {},
   "source": [
    "4. La fuerza de atracción entre dos masas m1 y m2 separadas por una distancia d, está\n",
    "dada por la fórmula: F = Gm1m2/d² \n",
    "Donde G es la constante de gravitación universal:\n",
    "G 6.673X10-⁸cm³/g*seg²\n",
    "Escriba un programa que lea la masa de dos cuerpos y la distancia entre ellos y acontinuación obtenga la fuerza gravitacional entre ella. La salida debe ser en dinas; un DINA es igual a g*cm/seg2\n",
    "Formato de salida deseado: xx.yy dyn"
   ]
  },
  {
   "cell_type": "code",
   "execution_count": 36,
   "metadata": {},
   "outputs": [
    {
     "name": "stdout",
     "output_type": "stream",
     "text": [
      "introduzca la masa del cuerpo 1 2\n",
      "introduzca la masa del cuerpo 2 2\n",
      "introduzca la distancia de los cuerpos 2\n",
      "La fuerza gravitacional es 2.6692e-07 dyn\n"
     ]
    }
   ],
   "source": [
    "x = float(input(\"introduzca la masa del cuerpo 1 \"))\n",
    "y = float(input(\"introduzca la masa del cuerpo 2 \"))\n",
    "z = float(input(\"introduzca la distancia de los cuerpos \"))\n",
    "g = float(0.00000006673)\n",
    "f = ((g * x * y)/ z * z)\n",
    "print(f\"La fuerza gravitacional es {f} dyn\")"
   ]
  },
  {
   "cell_type": "markdown",
   "metadata": {},
   "source": [
    "5. La famosa ecuación de Einstein para conversión de una masa m en energía viene dada\n",
    "por la fórmula\n",
    "E = mc² c es la velocidad de la luz c = 2.997925X10^(10) m/seg\n",
    "Escribir un programa que lea una masa en gramos y obtenga la cantidad de energía\n",
    "producida cuando la masa se convierta en energía.\n",
    "Nota: se la masa se da en gramos, la fórmula produce la energía en ergios.\n",
    "Formato de salida deseado: xx.yy erg"
   ]
  },
  {
   "cell_type": "code",
   "execution_count": 40,
   "metadata": {},
   "outputs": [
    {
     "name": "stdout",
     "output_type": "stream",
     "text": [
      "introduza la masa en gramos 2\n",
      "la energia es de 1.797510861125e+21 erg\n"
     ]
    }
   ],
   "source": [
    "x = float(input(\"introduza la masa en gramos \"))\n",
    "c = float(29979250000)\n",
    "E = x * (c * c)\n",
    "print(f\"la energia es de {E} erg\")"
   ]
  },
  {
   "cell_type": "markdown",
   "metadata": {},
   "source": [
    "6. Escribir un programa que lea la hora en un día de notación 24 horas y escriba la\n",
    "respuesta en notación de 12 horas. Por ejemplo, si la entrada es 13:45, la salida será: 1:45 PM\n",
    "El programa pedirá al usuario que introduzca exactamente cinco caracteres. Así, por\n",
    "ejemplo, las nueve en punto se introduce como: 09:00"
   ]
  },
  {
   "cell_type": "code",
   "execution_count": 74,
   "metadata": {},
   "outputs": [
    {
     "name": "stdout",
     "output_type": "stream",
     "text": [
      "Enter a time in 24 hour time, e.g. '1620'\n",
      "Time: 1620\n",
      "420 pm\n"
     ]
    }
   ],
   "source": [
    "print(\"Enter a time in 24 hour time, e.g. '1620'\")\n",
    "\n",
    "time = (int(input(\"Time: \")))\n",
    "\n",
    "normal = 0\n",
    "\n",
    "if (time == 0000):\n",
    "\n",
    "    normal=\"12:00am\"\n",
    "    print (normal)\n",
    "\n",
    "elif (time>1200):\n",
    "\n",
    "    normal = (time - 1200)\n",
    "    print (int(normal), (\"pm\"))\n",
    "\n",
    "elif (time<1200):\n",
    "\n",
    "    normal = time\n",
    "    print (int(normal), (\"am\"))"
   ]
  },
  {
   "cell_type": "markdown",
   "metadata": {},
   "source": [
    "7. Leer un número A, evaluar sucesivamente las expresiones siguientes y desplegar los\n",
    "resultados obtenidos en un archivo denominado “practica01.out”. B = A + 10\n",
    "C = 2 * B + A\n",
    "D = A + B + C + 5\n",
    "Formato de salida deseado:\n",
    "Ejercicio 9.\n",
    "A = xx\n",
    "B = yy\n",
    "C = zz\n",
    "D = xyz"
   ]
  },
  {
   "cell_type": "markdown",
   "metadata": {},
   "source": [
    "8. Hacer leer un número X de tipo decimal, hallar su valor absoluto y decimal, desplegar\n",
    "el resultado dentro del archivo “practica01.out”.\n",
    "Formato de salida deseado:\n",
    "Ejercicio 8.\n",
    "Número: xx.yy\n",
    "Valor absoluto: xx\n",
    "Parte decimal: yy"
   ]
  },
  {
   "cell_type": "markdown",
   "metadata": {},
   "source": [
    "9. Leer a, b, c y d, hallar el menor y mayor de los cuatro números, desplegar su resultado\n",
    "en el archivo “practica01.out”."
   ]
  },
  {
   "cell_type": "markdown",
   "metadata": {},
   "source": [
    "10. Dado los valores de X, Y, Z, evaluar A = X^2+Y^2+Z^2. Si se cumple que, A<100 y Y<5\n",
    "calcular B = (X+Y)^2 – X*Z, caso contrario calcular B = (X-Y)^2 + X*Z. Desplegar A y B\n",
    "en el archivo “practica01.out”"
   ]
  },
  {
   "cell_type": "code",
   "execution_count": null,
   "metadata": {},
   "outputs": [],
   "source": []
  }
 ],
 "metadata": {
  "kernelspec": {
   "display_name": "Python 3",
   "language": "python",
   "name": "python3"
  },
  "language_info": {
   "codemirror_mode": {
    "name": "ipython",
    "version": 3
   },
   "file_extension": ".py",
   "mimetype": "text/x-python",
   "name": "python",
   "nbconvert_exporter": "python",
   "pygments_lexer": "ipython3",
   "version": "3.7.4"
  }
 },
 "nbformat": 4,
 "nbformat_minor": 2
}
