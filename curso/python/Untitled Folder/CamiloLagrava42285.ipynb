{
 "cells": [
  {
   "cell_type": "code",
   "execution_count": null,
   "metadata": {},
   "outputs": [],
   "source": [
    "#codigo 01"
   ]
  },
  {
   "cell_type": "code",
   "execution_count": 27,
   "metadata": {},
   "outputs": [
    {
     "name": "stdout",
     "output_type": "stream",
     "text": [
      "JUEGO DE LOS DADOS: HASTA REPETIR\n",
      "La tirada de Cubitus: 4 1 2 1 5 6 3 5 5\n",
      "La tirada de Humeros: 4 4\n",
      "Cubitus ha sacado un 5 y Humerus ha sacado un 4\n",
      "Ha ganado Cubitus\n"
     ]
    }
   ],
   "source": [
    "import random\n",
    "\n",
    "print('JUEGO DE LOS DADOS: HASTA REPETIR')\n",
    "c=[]\n",
    "h =[]\n",
    "\n",
    "\n",
    "g=0\n",
    "nc=0\n",
    "i=0\n",
    "\n",
    "while g == 0:\n",
    "    if len(c)<2:\n",
    "        c.append(random.randint(1,6))\n",
    "    elif c[i] != c[i+1]:\n",
    "        c.append(random.randint(1,6))\n",
    "        i+=1\n",
    "    else:\n",
    "        nc=c[len(c)-1]\n",
    "        g=1\n",
    "g=0\n",
    "i=0\n",
    "nh=0\n",
    "        \n",
    "while g == 0:\n",
    "    if len(h)<2:\n",
    "        h.append(random.randint(1,6))\n",
    "    elif h[i] != h[i+1]:\n",
    "        h.append(random.randint(1,6))\n",
    "        i+=1\n",
    "    else:\n",
    "        nh=h[len(h)-1]\n",
    "        g=1\n",
    "        \n",
    "print('La tirada de Cubitus:', *c)\n",
    "print('La tirada de Humeros:', *h)\n",
    "print(f'Cubitus ha sacado un {nc} y Humerus ha sacado un {nh}')\n",
    "if nh == nc:\n",
    "    print('han enpatado')\n",
    "elif nh > nc :\n",
    "    print('Ha ganado Humero')\n",
    "else:\n",
    "    print('Ha ganado Cubitus')\n",
    "    \n"
   ]
  },
  {
   "cell_type": "code",
   "execution_count": null,
   "metadata": {},
   "outputs": [],
   "source": [
    "#codigo 03"
   ]
  },
  {
   "cell_type": "code",
   "execution_count": null,
   "metadata": {},
   "outputs": [],
   "source": []
  },
  {
   "cell_type": "code",
   "execution_count": null,
   "metadata": {},
   "outputs": [],
   "source": [
    "#codigo 05"
   ]
  },
  {
   "cell_type": "code",
   "execution_count": 37,
   "metadata": {},
   "outputs": [
    {
     "name": "stdout",
     "output_type": "stream",
     "text": [
      "numero de tiros : 5\n",
      "Lanzamineto 1 con 19 puntos :  5 2 2 6 4\n",
      "Lanzamineto 2 con 25 puntos :  2 4 6 1 3\n",
      "Lanzamineto 3 con 45 puntos :  2 2 2 2 1\n",
      "Lanzamineto 4 con 19 puntos :  3 4 2 5 5\n",
      "Lanzamineto 5 con 18 puntos :  4 1 5 3 5\n"
     ]
    }
   ],
   "source": [
    "import random\n",
    "\n",
    "\n",
    "n=int(input('numero de tiros : '))\n",
    "r=[]\n",
    "\n",
    "i=0\n",
    "while i < n:\n",
    "    l=[]\n",
    "    j=0\n",
    "    while j < 5:\n",
    "        l.append(random.randint(1,6))\n",
    "        j+=1\n",
    "    \n",
    "    r.append(l)\n",
    "    i+=1\n",
    "\n",
    "lp=[]\n",
    "\n",
    "i=0\n",
    "while i < n:\n",
    "    lp.append(0)\n",
    "    i+=1\n",
    "\n",
    "i=0\n",
    "while i< n:\n",
    "    j=0\n",
    "    lr = [0,0,0,0,0,0]\n",
    "    while j < n:\n",
    "        lr[r[i][j]-1]+=1\n",
    "        j+=1\n",
    "    \n",
    "    if 5 in lr:\n",
    "        lp[i]+=(50)\n",
    "    elif 4 in lr:\n",
    "        lp[i]+=(45)\n",
    "    elif 3 in lr and 2 in lr : \n",
    "        lp[i]+=(35)\n",
    "    else:\n",
    "        k=0\n",
    "        c=0\n",
    "        while k < 6:\n",
    "            if lr[k-1] == 0:\n",
    "                c+=1\n",
    "            k+=1\n",
    "        if c <= 1:\n",
    "            lp[i]+=(25)\n",
    "        else:\n",
    "            k=1\n",
    "            while k <= 6:\n",
    "                lp[i] += lr[k-1]*k\n",
    "                k+=1\n",
    "    i+=1\n",
    "\n",
    "i=0\n",
    "while i < n: \n",
    "    print(f'Lanzamineto {i+1} con {lp[i]} puntos : ', *r[i])\n",
    "    i+=1\n",
    "\n"
   ]
  }
 ],
 "metadata": {
  "kernelspec": {
   "display_name": "Python 3",
   "language": "python",
   "name": "python3"
  },
  "language_info": {
   "codemirror_mode": {
    "name": "ipython",
    "version": 3
   },
   "file_extension": ".py",
   "mimetype": "text/x-python",
   "name": "python",
   "nbconvert_exporter": "python",
   "pygments_lexer": "ipython3",
   "version": "3.7.4"
  }
 },
 "nbformat": 4,
 "nbformat_minor": 2
}
