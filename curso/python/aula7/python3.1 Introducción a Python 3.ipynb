{
 "cells": [
  {
   "cell_type": "markdown",
   "metadata": {},
   "source": [
    "<img src=cenapad.jpg align=left><BR><BR><BR><BR><BR><BR>\n",
    "<h1>Curso Introducción al Lenguaje Python</h1>\n",
    "<img src=python-logo.png align=left>"
   ]
  },
  {
   "cell_type": "markdown",
   "metadata": {},
   "source": [
    "# Una Breve Historia de Python"
   ]
  },
  {
   "cell_type": "markdown",
   "metadata": {},
   "source": [
    "El lenguaje Python fue conceptualizado por Guido Van Rossum a finles de los años 80 en Paises Bajos. Guido trabajaba con un lenguaje de programación llamado ABC dentro del sistema operativo distribuido llamado Amoeba. En diciembre de 1989, Guido buscaba un hobby para entretenerse una semana antes de Navidad. En sus propias palabras:"
   ]
  },
  {
   "cell_type": "markdown",
   "metadata": {},
   "source": [
    "<em>\" ... en diciembre de 1989, estaba buscando un proyecto de programación como hobby que me mantuviera ocupado durante las semanas de Navidad. Mi oficina Adriana Calvo López estaría cerrada y no tendría más que mi ordenador de casa a mano. Decidí escribir un intérprete para el nuevo lenguaje de scripting que había estado ideando recientemente: un descendiente de ABC que gustaría a los hackers de Unix/c. Elegí el nombre de Python para el proyecto, encontrándome en un estado de ánimo ligeramente irreverente (y siendo un gran fan de Monty Python's Flying Circus)\"</em>\n",
    "\n",
    "<img src=montypython.jpg>\n",
    "\n",
    "<em>\"Recordé toda mi experiencia y un poco de mi frustración con ABC. Decidí intentar crear un lenguaje de script sencillo que tuviera algunas de las mejores propiedades de ABC, pero sin sus problemas. Entonces comencé a digitar. Creé una máquina virtual simple, un analizador simple y una plataforma de ejecución simple. Hice mi propia versión de las diversas partes de ABC que me gustaron. Creé una sintaxis básica, usé sangría para agrupar sentencias en lugar de llaves o bloques begin-end y desarrollé una pequeña cantidad de tipos de datos potentes: una tabla hash (o diccionario, como lo llamamos), una lista, cadenas y números.\"</em>\n",
    "\n",
    "En el año 2000 agregó: <em>\"El predecesor de Python, ABC, estaba inspirado en SETL - Lambert Meertens se pasó un año trabajando en el grupo de SETL en la Universidad de Nueva York antes de que surgiera el diseño final de ABC.\"</em>"
   ]
  },
  {
   "cell_type": "code",
   "execution_count": null,
   "metadata": {},
   "outputs": [],
   "source": [
    "#Hello World\n",
    "print(\"Bienvenidos a Python UPB\")"
   ]
  },
  {
   "cell_type": "markdown",
   "metadata": {},
   "source": [
    "Guido publicó la primera versión del código Python (versión 0.9) en febrero de 1991 en Usenet (una red de grupos de noticias anterior a la WWW). El lenguaje Python nació como una fuente abierta. Guido copió los términos de licencia X11 de MIT. Desde la primera versión, Python ya era un lenguaje orientado a objetos e implementó el manejo de excepciones, funciones, módulos y tipos de datos como listas y diccionarios."
   ]
  },
  {
   "cell_type": "markdown",
   "metadata": {},
   "source": [
    "En 1994, Guido lanzó la versión 1.0 que implementa algunas características típicas de los lenguajes de programación funcionales como la función lambda, map, filter y reduce. Estas nuevas características fueron agregadas por un miembro de la incipiente comunidad de desarrolladores y no complacieron a Guido al principio. Sin embargo, desde el principio, Python ya era un lenguaje de programación genérico y era posible programar de acuerdo con el paradigma orientado a objetos, estructurado o funcional. Más recientemente, se han implementado paquetes de programación lógica (el paradigma utilizado por Prolog), lo que le da a Python la flexibilidad de intercambiar varios paradigmas de programación en un solo código."
   ]
  },
  {
   "cell_type": "markdown",
   "metadata": {},
   "source": [
    "En la década de 1990, el lenguaje Python todavía no estaba muy extendido, y fue desarrollado y utilizado solo por grupos de entusiastas y Guido centralizaba las decisiones del diseño del proyecto. Cuando más personas comenzaron a involucrarse en el desarrollo del lenguaje, quedó claro que el proyecto dependía demasiado de una persona y que esto no era seguro ni deseable.Y ¿Qué pasa si Guido fuera atropellado por un autobús? ¿O contratado para desarrollar un lenguaje rival?. Por lo tanto, la comunidad se unió para formar la organización BeOpen.com, que lanzó la versión 2.0 de Python el 2000. Poco después, BeOpen dio origen a la organización sin fines de lucro <a href=www.python.org> Python Software Foundation (PSF) </a>, que aún hoy coordina el desarrollo del lenguaje. Guido todavía tiene una gran influencia en el destino del proyecto, pero las decisiones son tomadas de manera más democrática por el PSF. En la comunidad Python, Guido se llama el Dictador Benevolente para la Vida."
   ]
  },
  {
   "cell_type": "markdown",
   "metadata": {},
   "source": [
    "<img src=guido.jpg>"
   ]
  },
  {
   "cell_type": "markdown",
   "metadata": {},
   "source": [
    "En 2006, un desarrollador activo de Python, Tim Peters, escribió los principios rectores del lenguaje en un documento llamado <em>The Zen of Python</em>. Se puede acceder a los 19 principios a través de un <em>\"easter egg\"</em> mantenido en todas las implementaciones de Python."
   ]
  },
  {
   "cell_type": "code",
   "execution_count": null,
   "metadata": {},
   "outputs": [],
   "source": [
    "import this"
   ]
  },
  {
   "cell_type": "markdown",
   "metadata": {},
   "source": [
    "En español:<BR>\n",
    "<list>\n",
    "<li>Bello es mejor que feo.</li>\n",
    "<li>Explícito es mejor que implícito.</li>\n",
    "<li>Simple es mejor que complejo.</li>\n",
    "<li>Complejo es mejor que complicado.</li>\n",
    "<li>Plano es mejor que anidado.</li>\n",
    "<li>Disperso es mejor que denso.</li>\n",
    "<li>La legibilidad cuenta.</li>\n",
    "<li>Los casos especiales no son tan especiales como para quebrantar las reglas.</li>\n",
    "<li>Lo práctico gana a lo puro.</li>\n",
    "<li>Los errores nunca deberían dejarse pasar silenciosamente.</li>\n",
    "<li>A menos que hayan sido silenciados explícitamente.</li>\n",
    "<li>Frente a la ambigüedad, rechaza la tentación de adivinar.</li>\n",
    "<li>Debería haber una —y preferiblemente solo una— manera obvia de hacerlo.</li>\n",
    "<li>Aunque esa manera puede no ser obvia al principio a menos que usted sea holandés.</li>\n",
    "<li>Ahora es mejor que nunca.</li>\n",
    "<li>Aunque nunca es a menudo mejor que ya mismo.</li>\n",
    "<li>Si la implementación es difícil de explicar, es una mala idea.</li>\n",
    "<li>Si la implementación es fácil de explicar, puede que sea una buena idea.</li>\n",
    "<li>Los espacios de nombres (namespaces) son una gran idea ¡Hagamos más de esas cosas!</li>\n",
    "</list>"
   ]
  },
  {
   "cell_type": "markdown",
   "metadata": {},
   "source": [
    "Durante la década de 2000, Python ganó una gran comunidad de usuarios. Guido y PSF decidieron que era hora de limpiar el código, una reingeniería completa. En 2008, después de años de discusiones y pruebas, se lanzó Python 3. A diferencia de las otras versiones, Python 3 marcó una ruptura de la compatibilidad con el código heredado. Incluso hoy en día, hay mucho código en Python 2. Sin embargo, hay pocas diferencias en la sintaxis y es relativamente fácil portar código heredado a Python 3 en proyectos pequeños o medianos. Las principales diferencias entre la sintaxis de Python 2 y 3 están en este <a href=\"https://docs.python.org/3/whatsnew/3.0.html\"> documento </a>. A pesar del lanzamiento de Python 3, el linaje de la versión 2 (actualmente 2.7), será mantenido hasta el 01 de Enero del 2020."
   ]
  },
  {
   "cell_type": "markdown",
   "metadata": {},
   "source": [
    "En este curso, utilizaremos principalmente Python 3. <b>El futuro es Python 3</b> y, después de 10 años, la mayoría de los paquetes de Python 2 ya se han reescrito para Python 3, además de casi todos los paquetes nuevos. Sin embargo, indicaremos algunas buenas referencias para aquellos que necesitan, por alguna razón, trabajar con código Python 2 o incluso portarlo a Python 3."
   ]
  },
  {
   "cell_type": "markdown",
   "metadata": {},
   "source": [
    "# Objetivos del Curso"
   ]
  },
  {
   "cell_type": "markdown",
   "metadata": {},
   "source": [
    "Introduciremos la sintaxis básica de Python y algunos módulos de la biblioteca estándar. Con este conocimiento, se espera que el estudiante pueda hacer sus primeros códigos y pueda consultar la documentación por su cuenta, usar los foros y manuales en Internet para todo lo demás."
   ]
  },
  {
   "cell_type": "markdown",
   "metadata": {},
   "source": [
    "\n",
    "# Programas en Python"
   ]
  },
  {
   "cell_type": "markdown",
   "metadata": {},
   "source": [
    "Los programas de Python generalmente se almacenan en archivos de texto con la extensión \".py\"\n",
    "Ejemplo: hello_world.py"
   ]
  },
  {
   "cell_type": "markdown",
   "metadata": {},
   "source": [
    "Cada línea en un programa Python contiene un comando (o parte de un comando). La excepción son los comentarios que son líneas que comienzan con # para una línea o\n",
    "\n",
    "'''\n",
    "Comentario de várias líneas con tres ' apostrofe simple al inicio y al final\n",
    "'''"
   ]
  },
  {
   "cell_type": "code",
   "execution_count": null,
   "metadata": {},
   "outputs": [],
   "source": [
    "#Hola. ¡Bienvenidos al Curso de Python! Esto es un comentario de Marcelo para ustedes."
   ]
  },
  {
   "cell_type": "markdown",
   "metadata": {},
   "source": [
    "¿Notaste el uso de caracteres acentuados? Los programas de Python usan codificación UTF-8, que puede representar, con dos bytes, caracteres latinos, griego, cirílico, etc."
   ]
  },
  {
   "cell_type": "code",
   "execution_count": null,
   "metadata": {},
   "outputs": [],
   "source": [
    "print(\"Γειά σου Κόσμε!\")"
   ]
  },
  {
   "cell_type": "markdown",
   "metadata": {},
   "source": [
    "La función de <b>print</b> también acepta varios parámetros."
   ]
  },
  {
   "cell_type": "code",
   "execution_count": null,
   "metadata": {},
   "outputs": [],
   "source": [
    "print(\"piña\",\"plátano\",\"café\",\"mandarina\")"
   ]
  },
  {
   "cell_type": "markdown",
   "metadata": {},
   "source": [
    "¿Notó el espacio que el intérprete colocó entre \"piña\", \"plátano\" y \"café\"? El carácter de espacio es el separador predeterminado de la función <b>print</b>. El terminador predeterminado es un salto de línea <em>linefeed</em> \"<b>\\n</b>\". Pero podemos cambiar eso."
   ]
  },
  {
   "cell_type": "code",
   "execution_count": null,
   "metadata": {},
   "outputs": [],
   "source": [
    "print(\"piña\",\"plátano\",\"café\",\"mandarina\",sep=\", \",end=\".\")"
   ]
  },
  {
   "cell_type": "markdown",
   "metadata": {},
   "source": [
    "Se puede acceder a la documentación de las funciones de Python de la siguiente manera:"
   ]
  },
  {
   "cell_type": "code",
   "execution_count": null,
   "metadata": {},
   "outputs": [],
   "source": [
    "?print"
   ]
  },
  {
   "cell_type": "markdown",
   "metadata": {},
   "source": [
    "Sin embargo, no está demás recordar que existe <a href=\"https://stackoverflow.com/\"><b>Stack Overflow</b></a>, por ejemplo: <a href=\"https://stackoverflow.com/questions/493386/how-to-print-without-newline-or-space/11685717\"> How to print without newline or space?</a>. Como siempre recomendamos hacer la búsqueda en <em>Inglés</em>."
   ]
  },
  {
   "cell_type": "markdown",
   "metadata": {},
   "source": [
    "Tenga en cuenta que además de los parámetros \"sep\" y \"end\", también tenemos el parámetro de \"file\". El valor predeterminado para el parámetro de archivo es la salida estándar (stdout). Pero podemos hacer que se imprima en un archivo."
   ]
  },
  {
   "cell_type": "code",
   "execution_count": null,
   "metadata": {},
   "outputs": [],
   "source": [
    "print(\"piña\",\"plátano\",\"café\",sep=\", \",end=\".\",file=open(\"lista_de_compras.txt\",\"w\"))"
   ]
  },
  {
   "cell_type": "markdown",
   "metadata": {},
   "source": [
    "También podemos hacer uso de comandos bash aquí en <b>Jupyter</b>. Simplemente comience la línea con un signo de exclamación (!). Veamos si se ha creado el archivo \"lista_de_compras.txt.txt\"."
   ]
  },
  {
   "cell_type": "code",
   "execution_count": null,
   "metadata": {},
   "outputs": [],
   "source": [
    "!ls"
   ]
  },
  {
   "cell_type": "code",
   "execution_count": null,
   "metadata": {},
   "outputs": [],
   "source": [
    "!cat lista_de_compras.txt"
   ]
  },
  {
   "cell_type": "markdown",
   "metadata": {},
   "source": [
    "El segundo parámetro que pasamos al abrir un archivo fue una \"w\". Esto significa que el archivo se ha abierto para escritura (\"write\"), pero todo su contenido se ha eliminado antes. Vea la ayuda de la función <b>open</b> con ? para ver cómo podemos abrir un archivo para leer, agregar, en modo binario, etc."
   ]
  },
  {
   "cell_type": "code",
   "execution_count": null,
   "metadata": {},
   "outputs": [],
   "source": [
    "?open"
   ]
  },
  {
   "cell_type": "markdown",
   "metadata": {},
   "source": [
    "### Ejercicio 1:"
   ]
  },
  {
   "cell_type": "markdown",
   "metadata": {},
   "source": [
    "En un archivo \"participantes.txt\" imprima la lista de miembros de su grupo."
   ]
  },
  {
   "cell_type": "code",
   "execution_count": null,
   "metadata": {},
   "outputs": [],
   "source": [
    "# Escriba el código aqui\n"
   ]
  },
  {
   "cell_type": "markdown",
   "metadata": {},
   "source": [
    "### Ejercicio 2."
   ]
  },
  {
   "cell_type": "markdown",
   "metadata": {},
   "source": [
    "En otra archivo \"abstract.txt\", imprima el resumen de su proyecto, el cual debe contener más de 100 palabras."
   ]
  },
  {
   "cell_type": "code",
   "execution_count": null,
   "metadata": {},
   "outputs": [],
   "source": [
    "# Escriba el código aqui\n"
   ]
  },
  {
   "cell_type": "markdown",
   "metadata": {},
   "source": [
    "### Ejercicio 3."
   ]
  },
  {
   "cell_type": "markdown",
   "metadata": {},
   "source": [
    "Junte ambos archivos (participantes.txt y abstract.txt) en un mismo archivo denominado \"proyecto.txt\""
   ]
  },
  {
   "cell_type": "code",
   "execution_count": null,
   "metadata": {},
   "outputs": [],
   "source": [
    "# Escriba el código aqui\n"
   ]
  },
  {
   "cell_type": "markdown",
   "metadata": {},
   "source": [
    "### Ejercicio 4."
   ]
  },
  {
   "cell_type": "markdown",
   "metadata": {},
   "source": [
    "En el entorno Linux, los programas Python deben contener la ruta del intérprete de Python en la primera línea. Está ruta se puede averiguar con el comando which. Si desea utilizar el intérprete de python estándar del sistema, use \"#!/usr/bin/env python\". Use cualquier editor de texto como gedit, vim, nano u otro que usted estuviera acostumbrado para escribir su primer programa Python. Guárdelo como hello_world.py, agregue permisos de ejecución con chmod y luego ejecútelo con ./hello_world.py"
   ]
  },
  {
   "cell_type": "raw",
   "metadata": {},
   "source": [
    "#!/usr/bin/env python\n",
    "print(\"Hello World\")"
   ]
  },
  {
   "cell_type": "markdown",
   "metadata": {},
   "source": [
    "# Variables"
   ]
  },
  {
   "cell_type": "markdown",
   "metadata": {},
   "source": [
    "Las variables se utilizan para almacenar datos en la memoria para su manipulación por parte de su programa. En pocas palabras, podemos decir que las variables son etiquetas (nombres) a las que podemos asignar valores (datos)."
   ]
  },
  {
   "cell_type": "code",
   "execution_count": null,
   "metadata": {},
   "outputs": [],
   "source": [
    "x = 78"
   ]
  },
  {
   "cell_type": "code",
   "execution_count": null,
   "metadata": {},
   "outputs": [],
   "source": [
    "print(x)"
   ]
  },
  {
   "cell_type": "markdown",
   "metadata": {},
   "source": [
    "Después de asignar el valor de 7 a la variable x, puede usarlo en lugar del número 7."
   ]
  },
  {
   "cell_type": "code",
   "execution_count": null,
   "metadata": {},
   "outputs": [],
   "source": [
    "x+x"
   ]
  },
  {
   "cell_type": "code",
   "execution_count": null,
   "metadata": {},
   "outputs": [],
   "source": [
    "x+2"
   ]
  },
  {
   "cell_type": "markdown",
   "metadata": {},
   "source": [
    "Una variable también puede contener texto (cadenas (strings) en la jerga del lenguaje)"
   ]
  },
  {
   "cell_type": "code",
   "execution_count": null,
   "metadata": {},
   "outputs": [],
   "source": [
    "x = \"Camila\""
   ]
  },
  {
   "cell_type": "code",
   "execution_count": null,
   "metadata": {},
   "outputs": [],
   "source": [
    "print(x)"
   ]
  },
  {
   "cell_type": "markdown",
   "metadata": {},
   "source": [
    "Los nombres de las variables pueden estar compuestos de letras minúsculas, letras mayúsculas, dígitos y el carácter de subrayado o <em>underscore</em> _ . Sin embargo, el primer carácter de un nombre de variable debe ser una letra o underscore."
   ]
  },
  {
   "cell_type": "code",
   "execution_count": null,
   "metadata": {},
   "outputs": [],
   "source": [
    "fruta1=\"mango\" "
   ]
  },
  {
   "cell_type": "code",
   "execution_count": null,
   "metadata": {},
   "outputs": [],
   "source": [
    "print(fruta1)"
   ]
  },
  {
   "cell_type": "code",
   "execution_count": null,
   "metadata": {},
   "outputs": [],
   "source": [
    "1fruta = \"naranja\""
   ]
  },
  {
   "cell_type": "markdown",
   "metadata": {},
   "source": [
    "Python es CASE SENSITIVE. Es decir, diferencia entre letras mayúsculas y minúsculas."
   ]
  },
  {
   "cell_type": "code",
   "execution_count": null,
   "metadata": {},
   "outputs": [],
   "source": [
    "fruta=\"manzana\"\n",
    "Fruta=\"uva\""
   ]
  },
  {
   "cell_type": "code",
   "execution_count": null,
   "metadata": {},
   "outputs": [],
   "source": [
    "print(fruta)"
   ]
  },
  {
   "cell_type": "code",
   "execution_count": null,
   "metadata": {},
   "outputs": [],
   "source": [
    "print(Fruta)"
   ]
  },
  {
   "cell_type": "markdown",
   "metadata": {},
   "source": [
    "A diferencia de la mayoría de los lenguajes de programación, los caracteres acentuados u otros alfabetos están permitidos en los nombres de variables. Sin embargo, <b>en aras de la legibilidad, se recomienda no usarlos</b>."
   ]
  },
  {
   "cell_type": "code",
   "execution_count": null,
   "metadata": {},
   "outputs": [],
   "source": [
    "árbol=\"Eucalipto\" #Esto es válido, sin embargo no es recomendado"
   ]
  },
  {
   "cell_type": "code",
   "execution_count": null,
   "metadata": {},
   "outputs": [],
   "source": [
    "print(árbol)"
   ]
  },
  {
   "cell_type": "markdown",
   "metadata": {},
   "source": [
    "# Atribución de Variables"
   ]
  },
  {
   "cell_type": "markdown",
   "metadata": {},
   "source": [
    "En matemáticas es común usar nombres de variables con una sola letra. En matemática, las variables se usan generalmente para representar un número cuyo valor es desconocido. En programación, las variables tienen un significado muy diferente. Las variables son como cajas donde podemos poner valores, textos y datos en general. La atribución de variables se asignan de derecha a izquierda. Por lo tanto, cuando hacemos x=1, estamos asignando el valor de 1 a la variable x. El signo igual (=) representa la atribución y no la igualdad."
   ]
  },
  {
   "cell_type": "code",
   "execution_count": null,
   "metadata": {},
   "outputs": [],
   "source": [
    "x = 698\n",
    "print(x)"
   ]
  },
  {
   "cell_type": "code",
   "execution_count": null,
   "metadata": {},
   "outputs": [],
   "source": [
    "x = y = 50\n",
    "print(x,y)"
   ]
  },
  {
   "cell_type": "code",
   "execution_count": null,
   "metadata": {},
   "outputs": [],
   "source": [
    "fruta=\"sandia\"\n",
    "print(fruta)"
   ]
  },
  {
   "cell_type": "markdown",
   "metadata": {},
   "source": [
    "# Operadores"
   ]
  },
  {
   "cell_type": "markdown",
   "metadata": {},
   "source": [
    "Los operadores matemáticos en Python son:\n",
    "####   + (suma)\n",
    "####   - (subtracción)\n",
    "####   / (división)\n",
    "####   // (división inteira)\n",
    "####   ** (exponenciación)\n",
    "####   % (resto da división)"
   ]
  },
  {
   "cell_type": "markdown",
   "metadata": {},
   "source": [
    "Podemos combinarlos usando paréntesis."
   ]
  },
  {
   "cell_type": "code",
   "execution_count": null,
   "metadata": {},
   "outputs": [],
   "source": [
    "resultado = (7+8)*2\n",
    "print(resultado)"
   ]
  },
  {
   "cell_type": "code",
   "execution_count": null,
   "metadata": {},
   "outputs": [],
   "source": [
    "resultado=9/2\n",
    "print(resultado)\n",
    "type(resultado)"
   ]
  },
  {
   "cell_type": "code",
   "execution_count": null,
   "metadata": {},
   "outputs": [],
   "source": [
    "division_entera=19//2\n",
    "print(division_entera)"
   ]
  },
  {
   "cell_type": "code",
   "execution_count": null,
   "metadata": {},
   "outputs": [],
   "source": [
    "resto_de_division_entera=9%2\n",
    "print(resto_de_division_entera)"
   ]
  },
  {
   "cell_type": "code",
   "execution_count": null,
   "metadata": {},
   "outputs": [],
   "source": [
    "x=5\n",
    "expresion = x**2 + 2*x + 1\n",
    "print(expresion)"
   ]
  },
  {
   "cell_type": "markdown",
   "metadata": {},
   "source": [
    "Es posible reasignar el valor de una variable haciendo referencia a sí misma en una expresión"
   ]
  },
  {
   "cell_type": "code",
   "execution_count": null,
   "metadata": {},
   "outputs": [],
   "source": [
    "a = 5"
   ]
  },
  {
   "cell_type": "code",
   "execution_count": null,
   "metadata": {},
   "outputs": [],
   "source": [
    "a = a + 1"
   ]
  },
  {
   "cell_type": "code",
   "execution_count": null,
   "metadata": {},
   "outputs": [],
   "source": [
    "print(a)\n"
   ]
  },
  {
   "cell_type": "markdown",
   "metadata": {},
   "source": [
    "Podemos simplificar utilizando un acceso directo a la reasignación anterior a través de + ="
   ]
  },
  {
   "cell_type": "code",
   "execution_count": null,
   "metadata": {},
   "outputs": [],
   "source": [
    "a=10\n",
    "a+=9"
   ]
  },
  {
   "cell_type": "code",
   "execution_count": null,
   "metadata": {},
   "outputs": [],
   "source": [
    "print(a)\n",
    "a+=1\n"
   ]
  },
  {
   "cell_type": "markdown",
   "metadata": {},
   "source": [
    "De forma análoga, Python también permite reasignaciones con \\*=   /=   -=   //=  y  \\**="
   ]
  },
  {
   "cell_type": "code",
   "execution_count": null,
   "metadata": {},
   "outputs": [],
   "source": [
    "valor=9"
   ]
  },
  {
   "cell_type": "code",
   "execution_count": null,
   "metadata": {},
   "outputs": [],
   "source": [
    "valor **=3"
   ]
  },
  {
   "cell_type": "code",
   "execution_count": null,
   "metadata": {},
   "outputs": [],
   "source": [
    "print(valor)"
   ]
  },
  {
   "cell_type": "markdown",
   "metadata": {},
   "source": [
    "# Operadores relacionales"
   ]
  },
  {
   "cell_type": "markdown",
   "metadata": {},
   "source": [
    "<table><tr><th>Operador</th><th>Significado</th></tr>\n",
    "<tr><td>==</td><td>es igual a</td></tr>\n",
    "<tr><td>!=</td><td>es diferente de</td></tr>\n",
    "<tr><td>></td><td>mayor que</td></tr>\n",
    "<tr><td><</td><td>menor que</td></tr>\n",
    "<tr><td>>=</td><td>mayor o igual que</td></tr>\n",
    "<tr><td><=</td><td>menor o igual que</td></tr>\n",
    "\n",
    "</table>"
   ]
  },
  {
   "cell_type": "code",
   "execution_count": null,
   "metadata": {},
   "outputs": [],
   "source": [
    "a=5"
   ]
  },
  {
   "cell_type": "code",
   "execution_count": null,
   "metadata": {},
   "outputs": [],
   "source": [
    "a==5"
   ]
  },
  {
   "cell_type": "code",
   "execution_count": null,
   "metadata": {},
   "outputs": [],
   "source": [
    "a!=5"
   ]
  },
  {
   "cell_type": "code",
   "execution_count": null,
   "metadata": {},
   "outputs": [],
   "source": [
    "a>10"
   ]
  },
  {
   "cell_type": "code",
   "execution_count": null,
   "metadata": {},
   "outputs": [],
   "source": [
    "a<10"
   ]
  },
  {
   "cell_type": "code",
   "execution_count": null,
   "metadata": {},
   "outputs": [],
   "source": [
    "a<5"
   ]
  },
  {
   "cell_type": "code",
   "execution_count": null,
   "metadata": {},
   "outputs": [],
   "source": [
    "a<=5"
   ]
  },
  {
   "cell_type": "code",
   "execution_count": null,
   "metadata": {},
   "outputs": [],
   "source": [
    "b=10"
   ]
  },
  {
   "cell_type": "code",
   "execution_count": null,
   "metadata": {},
   "outputs": [],
   "source": [
    "a<b"
   ]
  },
  {
   "cell_type": "markdown",
   "metadata": {},
   "source": [
    "# Estructura Dinámica"
   ]
  },
  {
   "cell_type": "markdown",
   "metadata": {},
   "source": [
    "El lenguaje Python admite que la misma variable a veces contiene un tipo de datos, a veces contiene otro tipo. Las siguientes asignaciones son válidas."
   ]
  },
  {
   "cell_type": "code",
   "execution_count": null,
   "metadata": {},
   "outputs": [],
   "source": [
    "y = 10 #integer\n",
    "type(y)"
   ]
  },
  {
   "cell_type": "code",
   "execution_count": null,
   "metadata": {},
   "outputs": [],
   "source": [
    "y = 4.578 #float\n",
    "type(y)"
   ]
  },
  {
   "cell_type": "code",
   "execution_count": null,
   "metadata": {},
   "outputs": [],
   "source": [
    "y = \"cachorro\" #String\n",
    "type(y)"
   ]
  },
  {
   "cell_type": "code",
   "execution_count": null,
   "metadata": {},
   "outputs": [],
   "source": [
    "y = [1,4,7,8,9] #Lista\n",
    "type(y)"
   ]
  },
  {
   "cell_type": "markdown",
   "metadata": {},
   "source": [
    "Hay pros y contras con respecto al uso de la tipificación dinámica. La mayor ventaja es que hace que escribir el código sea mucho más simple y legible. La mayor desventaja es que, desde un punto de vista computacional, esto es lento. Internamente, el intérprete de Python necesita determinar el tipo de una variable cada vez que se accede a su valor. La posibilidad de introducir errores inesperados en el código también aumenta si el programador no tiene cuidado."
   ]
  },
  {
   "cell_type": "markdown",
   "metadata": {},
   "source": [
    "# Operaciones con strings"
   ]
  },
  {
   "cell_type": "markdown",
   "metadata": {},
   "source": [
    "Puede usar comillas simples ('...') o comillas dobles (\"...\") para representar una cadena o string."
   ]
  },
  {
   "cell_type": "code",
   "execution_count": null,
   "metadata": {},
   "outputs": [],
   "source": [
    "'Olá'"
   ]
  },
  {
   "cell_type": "code",
   "execution_count": null,
   "metadata": {},
   "outputs": [],
   "source": [
    "\"Olá Certificación de Python 3\""
   ]
  },
  {
   "cell_type": "markdown",
   "metadata": {},
   "source": [
    "Si la cadena contiene comillas simples, represéntela entre comillas dobles. Si la cadena contiene comillas dobles, representala entre comillas simples."
   ]
  },
  {
   "cell_type": "code",
   "execution_count": null,
   "metadata": {},
   "outputs": [],
   "source": [
    "\"Mary's dog\""
   ]
  },
  {
   "cell_type": "code",
   "execution_count": null,
   "metadata": {},
   "outputs": [],
   "source": [
    "'Mateo dice: \"Python es genial\"'"
   ]
  },
  {
   "cell_type": "markdown",
   "metadata": {},
   "source": [
    "También puede usar \\ para encerrar comillas simples o dobles dentro de una cadena."
   ]
  },
  {
   "cell_type": "code",
   "execution_count": null,
   "metadata": {},
   "outputs": [],
   "source": [
    "frase = \"Esta \\\"pálabra\\\" está entre comillas dobles\"\n",
    "print(frase)"
   ]
  },
  {
   "cell_type": "markdown",
   "metadata": {},
   "source": [
    "Una string con varias líneas está representada por tres comillas dobles (\"\"\" string multilínea\"\"\"). Puede omitir el carácter de final de línea (\\n) al final de las líneas, terminando cada línea con un \\"
   ]
  },
  {
   "cell_type": "code",
   "execution_count": null,
   "metadata": {
    "scrolled": true
   },
   "outputs": [],
   "source": [
    "\"\"\"Usar tres comillas dobles \\\n",
    "puede ser muy genial\"\"\""
   ]
  },
  {
   "cell_type": "code",
   "execution_count": null,
   "metadata": {},
   "outputs": [],
   "source": [
    "a=\"\"\"Usar tres comillas dobles \\\n",
    "puede ser muy genial\"\"\"\n",
    "print(a)"
   ]
  },
  {
   "cell_type": "markdown",
   "metadata": {},
   "source": [
    "Las strings pueden ser concatenadas utilizando el operador (+)"
   ]
  },
  {
   "cell_type": "code",
   "execution_count": null,
   "metadata": {
    "scrolled": true
   },
   "outputs": [],
   "source": [
    "string1 = 'Py'\n",
    "string2 = 'thon'\n",
    "x= string1 + string2\n",
    "print(x)"
   ]
  },
  {
   "cell_type": "markdown",
   "metadata": {},
   "source": [
    "La comparación de strings también se puede hacer con los operadores ==, >, <, >=, <= o !=."
   ]
  },
  {
   "cell_type": "code",
   "execution_count": null,
   "metadata": {},
   "outputs": [],
   "source": [
    "a = \"test\"\n",
    "b = \"Test\"\n",
    "a==b"
   ]
  },
  {
   "cell_type": "code",
   "execution_count": null,
   "metadata": {},
   "outputs": [],
   "source": [
    "a = \"palta\"\n",
    "b = \"plátano\"\n",
    "c = \"caju\""
   ]
  },
  {
   "cell_type": "code",
   "execution_count": null,
   "metadata": {},
   "outputs": [],
   "source": [
    "a<b #ordem alfabética"
   ]
  },
  {
   "cell_type": "code",
   "execution_count": null,
   "metadata": {},
   "outputs": [],
   "source": [
    "a > b"
   ]
  },
  {
   "cell_type": "markdown",
   "metadata": {},
   "source": [
    "¿Qué sucede si intentas agregar tipos de datos incompatibles?"
   ]
  },
  {
   "cell_type": "code",
   "execution_count": null,
   "metadata": {},
   "outputs": [],
   "source": [
    "a+\"1\""
   ]
  },
  {
   "cell_type": "markdown",
   "metadata": {},
   "source": [
    "Multiplicar una cadena por un entero es una operación válida"
   ]
  },
  {
   "cell_type": "code",
   "execution_count": null,
   "metadata": {},
   "outputs": [],
   "source": [
    "outra=a*10\n",
    "print(outra)"
   ]
  },
  {
   "cell_type": "markdown",
   "metadata": {},
   "source": [
    "# Ingresar texto con input"
   ]
  },
  {
   "cell_type": "markdown",
   "metadata": {},
   "source": [
    "Python nos permite ingresar información desde el teclado a través de <b>input</b>. Toda información introducida por teclado se guarda como tipo string."
   ]
  },
  {
   "cell_type": "code",
   "execution_count": null,
   "metadata": {},
   "outputs": [],
   "source": [
    "colega = input(\"¿Quien se sienta a tu lado? \")\n",
    "print(\"Hola\", colega)"
   ]
  },
  {
   "cell_type": "markdown",
   "metadata": {},
   "source": [
    "### Ejercicio 5:"
   ]
  },
  {
   "cell_type": "markdown",
   "metadata": {},
   "source": [
    "Write a program that uses input to prompt a user for their name and then welcomes them. Note that input will pop up a dialog box. Enter Sarah in the pop-up box when you are prompted so your output will match the desired output.\n",
    "\n",
    "<b>Desired Output:</b><br>\n",
    "Hello Sarah"
   ]
  },
  {
   "cell_type": "code",
   "execution_count": null,
   "metadata": {},
   "outputs": [],
   "source": [
    "# Escriba el código aqui\n"
   ]
  },
  {
   "cell_type": "markdown",
   "metadata": {},
   "source": [
    "### Ejercicio 6:"
   ]
  },
  {
   "cell_type": "markdown",
   "metadata": {},
   "source": [
    "Write a program to prompt the user for hours and rate per hour using input to compute gross pay. Use 35 hours and a rate of 2.75 per hour to test the program (the pay should be 96.25). You should use input to read a string and float() to convert the string to a number. Do not worry about error checking or bad user data.\n",
    "\n",
    "<b>Desired Output:</b><br>\n",
    "Pay: 96.25"
   ]
  },
  {
   "cell_type": "code",
   "execution_count": null,
   "metadata": {},
   "outputs": [],
   "source": [
    "# Escriba el código aqui\n"
   ]
  },
  {
   "cell_type": "markdown",
   "metadata": {},
   "source": [
    "# Formateando la salida del comando de print"
   ]
  },
  {
   "cell_type": "code",
   "execution_count": null,
   "metadata": {},
   "outputs": [],
   "source": [
    "nombre = \"Kevin\"\n",
    "adjetivo = 10\n",
    "print(f\"{nombre} es un {adjetivo}\")"
   ]
  },
  {
   "cell_type": "code",
   "execution_count": null,
   "metadata": {},
   "outputs": [],
   "source": [
    "print('_A'*10)"
   ]
  },
  {
   "cell_type": "code",
   "execution_count": null,
   "metadata": {},
   "outputs": [],
   "source": [
    "print(\"Ene\\nFeb\\nMar\\nAbr\\nMay\\nJun\\nJul\\nAgo\\nSep\\nOct\\nNov\\nDic\")"
   ]
  },
  {
   "cell_type": "code",
   "execution_count": null,
   "metadata": {},
   "outputs": [],
   "source": [
    "print(\"I want \\\\n to be printed.\")"
   ]
  },
  {
   "cell_type": "code",
   "execution_count": null,
   "metadata": {},
   "outputs": [],
   "source": [
    "print (\"\"\"\n",
    "Routine:\n",
    "\\t-Eat\n",
    "\\t-Sleep\\n\\t-Repeat\n",
    "\"\"\")"
   ]
  },
  {
   "cell_type": "markdown",
   "metadata": {},
   "source": [
    "## Referencias"
   ]
  },
  {
   "cell_type": "markdown",
   "metadata": {},
   "source": [
    "En Python, solo las variables que representan strings y números contienen los datos en sí. Variables de listas, tuplas y conjuntos de variables no almacenan datos, sino su dirección en la memoria. Este es un concepto que es importante tener en cuenta, ya que es diferente de la mayoría de los lenguajes de programación."
   ]
  },
  {
   "cell_type": "code",
   "execution_count": null,
   "metadata": {},
   "outputs": [],
   "source": [
    "#Observe la diferencia entre variables numéricas o strings y otros tipos de variables\n",
    "a = 7\n",
    "b = a\n",
    "b = 10\n",
    "print(a)"
   ]
  },
  {
   "cell_type": "code",
   "execution_count": null,
   "metadata": {},
   "outputs": [],
   "source": [
    "#Inicialización de la lista mercado\n",
    "mercado=['Choclo','Carne',\"Coca Cola\",'Mango']\n",
    "#Variable fruteria ahora guarda una referencia para el mismo lugar que la variable mercado apunta.\n",
    "frutaria=mercado[:]\n",
    "#A partir de aqui, cambiamos el contenido de frutaria en el mismo espacio de memoria que es referenciado por mercado\n",
    "#En la  práctica, cambiar los dados de frutaria implica cambiar en la lista original mercado\n",
    "frutaria[2]='Mandarina'\n",
    "print(mercado)\n",
    "print(frutaria)"
   ]
  },
  {
   "cell_type": "code",
   "execution_count": null,
   "metadata": {},
   "outputs": [],
   "source": [
    "#Observe lo que pasa cuando hacemos a misma manipulación con variables que almacenan strings\n",
    "fruta1 = \"plátano\"\n",
    "fruta2 = fruta1\n",
    "fruta2 = \"sandía\"\n",
    "print(fruta1)"
   ]
  },
  {
   "cell_type": "markdown",
   "metadata": {},
   "source": [
    "Otro concepto fundamental en el aprendizaje de Python es el alcance de las variables. Ya vimos que Python es un lenguaje de tipo dinámico, que ya hace nuestras vidas mucho más fáciles. Además, no hay necesidad de declarar variables. Una variable es creada la primera vez que se usa y destruida cuando está fuera del alcance o cuando ya no se hace referencia a ella."
   ]
  },
  {
   "cell_type": "markdown",
   "metadata": {},
   "source": [
    "## Listas"
   ]
  },
  {
   "cell_type": "markdown",
   "metadata": {},
   "source": [
    "Una lista es una colección de objetos en un orden particular. Una lista puede contener textos, números, conjuntos e incluso otras listas. Es posible agregar y eliminar elementos de una lista, acceder y modificar items específicos."
   ]
  },
  {
   "cell_type": "code",
   "execution_count": null,
   "metadata": {},
   "outputs": [],
   "source": [
    "#Creando una lista de personas\n",
    "personas=[\"Maria\",\"Daniel\",\"Mateo\",\"Rodrigo\",\"Camilo\",\"Kevin\"]"
   ]
  },
  {
   "cell_type": "code",
   "execution_count": null,
   "metadata": {},
   "outputs": [],
   "source": [
    "#Accesando a los elementos de la lista\n",
    "personas[0]"
   ]
  },
  {
   "cell_type": "code",
   "execution_count": null,
   "metadata": {},
   "outputs": [],
   "source": [
    "#Modificando el tercer elemento (índice 2, pues el primer 1 elemento es o 0)\n",
    "personas[2]=\"José\""
   ]
  },
  {
   "cell_type": "code",
   "execution_count": null,
   "metadata": {},
   "outputs": [],
   "source": [
    "personas"
   ]
  },
  {
   "cell_type": "code",
   "execution_count": null,
   "metadata": {},
   "outputs": [],
   "source": [
    "#Adicionando un elemento al final de la lista\n",
    "personas.append('Carla')"
   ]
  },
  {
   "cell_type": "code",
   "execution_count": null,
   "metadata": {},
   "outputs": [],
   "source": [
    "personas"
   ]
  },
  {
   "cell_type": "code",
   "execution_count": null,
   "metadata": {},
   "outputs": [],
   "source": [
    "#Insertando un elemento en una posición específica\n",
    "personas.insert(0,\"Beatriz\")"
   ]
  },
  {
   "cell_type": "code",
   "execution_count": null,
   "metadata": {},
   "outputs": [],
   "source": [
    "print(personas)"
   ]
  },
  {
   "cell_type": "code",
   "execution_count": null,
   "metadata": {},
   "outputs": [],
   "source": [
    "#Después del siguiente comando, la posición 2 de la lista contendrá la cadena \"Astrogildo\"\n",
    "personas.insert(2,\"Astrogildo\")"
   ]
  },
  {
   "cell_type": "code",
   "execution_count": null,
   "metadata": {},
   "outputs": [],
   "source": [
    "print(personas)"
   ]
  },
  {
   "cell_type": "code",
   "execution_count": null,
   "metadata": {},
   "outputs": [],
   "source": [
    "#Es posible verificar si un elemento está en la lista. (Tenga en cuenta la sangría con 4 espacios. La identificación es sintácticamente importante en Python. Veremos más en la próxima clase)\n",
    "if \"Camilo\" in personas:\n",
    "    print(\"Lo encontre\")\n",
    "else:\n",
    "    print(\"No lo encontre\")"
   ]
  },
  {
   "cell_type": "code",
   "execution_count": null,
   "metadata": {},
   "outputs": [],
   "source": [
    "#También es posible recorrer la lista en un bucle (veremos más que bucles en la próxima clase)\n",
    "estudiantes=personas\n",
    "for estudiante in estudiantes:\n",
    "    print(f\"{estudiante} está en la lista personas\")   #esto é una f-string: https://realpython.com/python-f-strings/"
   ]
  },
  {
   "cell_type": "code",
   "execution_count": null,
   "metadata": {},
   "outputs": [],
   "source": [
    "#Removiendo elementos del final de la lista con el método pop\n",
    "persona = personas.pop()\n",
    "print(persona)\n",
    "print(personas)"
   ]
  },
  {
   "cell_type": "code",
   "execution_count": null,
   "metadata": {},
   "outputs": [],
   "source": [
    "#Es posible remover un elemento específico de la lista con el método del\n",
    "del(personas[2])\n",
    "print(personas)"
   ]
  },
  {
   "cell_type": "code",
   "execution_count": null,
   "metadata": {},
   "outputs": [],
   "source": [
    "#Concatenando listas\n",
    "frutas=[\"naranja\",\"10\",\"mandarinas\",\"5\"]\n",
    "verduras=[\"cebolla\"]\n",
    "todos = frutas + verduras\n",
    "lacteos = [\"yogurt\",\"queso\"]\n",
    "todos = todos + lacteos\n",
    "print(todos)"
   ]
  },
  {
   "cell_type": "code",
   "execution_count": null,
   "metadata": {},
   "outputs": [],
   "source": [
    "#Es posible también ordenar los elementos de la lista\n",
    "todos.sort()"
   ]
  },
  {
   "cell_type": "code",
   "execution_count": null,
   "metadata": {},
   "outputs": [],
   "source": [
    "print(todos)"
   ]
  },
  {
   "cell_type": "code",
   "execution_count": null,
   "metadata": {},
   "outputs": [],
   "source": [
    "#Invertir el orden de los elementos\n",
    "todos.reverse()\n",
    "print(todos)\n",
    "type(todos)"
   ]
  },
  {
   "cell_type": "code",
   "execution_count": null,
   "metadata": {},
   "outputs": [],
   "source": [
    "meses=['enero','febrero','marzo','abril','mayo','junio','julio','agosto','septiembre','octubre','noviembre','diciembre']"
   ]
  },
  {
   "cell_type": "code",
   "execution_count": null,
   "metadata": {
    "scrolled": true
   },
   "outputs": [],
   "source": [
    "#¿Cual es el octavo mes del año? Índices comienzan en cero\n",
    "meses[7]"
   ]
  },
  {
   "cell_type": "code",
   "execution_count": null,
   "metadata": {},
   "outputs": [],
   "source": [
    "#También es posible usar números negativos (-1 es el último elemento de la lista)\n",
    "meses[-2]"
   ]
  },
  {
   "cell_type": "code",
   "execution_count": null,
   "metadata": {},
   "outputs": [],
   "source": [
    "#¿Cuantos elementos existen en la lista meses? Use la función len de length\n",
    "len(meses)"
   ]
  },
  {
   "cell_type": "code",
   "execution_count": null,
   "metadata": {},
   "outputs": [],
   "source": [
    "#Es posible definir retornar intervalos de listas usando SLICES\n",
    "#Inicio:Fin:Paso\n",
    "#Intervalo abierto en fin, paso default es 1\n",
    "meses[4:9]"
   ]
  },
  {
   "cell_type": "code",
   "execution_count": null,
   "metadata": {},
   "outputs": [],
   "source": [
    "meses[1:5]"
   ]
  },
  {
   "cell_type": "code",
   "execution_count": null,
   "metadata": {},
   "outputs": [],
   "source": [
    "#Paso = 2\n",
    "meses[1:12:2]"
   ]
  },
  {
   "cell_type": "code",
   "execution_count": null,
   "metadata": {},
   "outputs": [],
   "source": [
    "#Inicio default es 0\n",
    "meses[:5]"
   ]
  },
  {
   "cell_type": "code",
   "execution_count": null,
   "metadata": {},
   "outputs": [],
   "source": [
    "#Final default es el fin de la lista\n",
    "meses[9:]"
   ]
  },
  {
   "cell_type": "code",
   "execution_count": null,
   "metadata": {},
   "outputs": [],
   "source": [
    "#Función min retorna el menor elemento de la lista (aqui asume el orden alfabético)\n",
    "min(meses)"
   ]
  },
  {
   "cell_type": "code",
   "execution_count": null,
   "metadata": {},
   "outputs": [],
   "source": [
    "#Función max retorna el mayor elemento de la lista\n",
    "max(meses)"
   ]
  },
  {
   "cell_type": "code",
   "execution_count": null,
   "metadata": {},
   "outputs": [],
   "source": [
    "#Y si fuese una lista de números?\n",
    "edades = [51,12,90,11,56,17,35,48,90,90]"
   ]
  },
  {
   "cell_type": "code",
   "execution_count": null,
   "metadata": {},
   "outputs": [],
   "source": [
    "min(edades)"
   ]
  },
  {
   "cell_type": "code",
   "execution_count": null,
   "metadata": {},
   "outputs": [],
   "source": [
    "max(edades)"
   ]
  },
  {
   "cell_type": "code",
   "execution_count": null,
   "metadata": {},
   "outputs": [],
   "source": [
    "#En que posiciṕon de la lista está la primera ocurrencia de determinado elemento?\n",
    "edades.index(35)"
   ]
  },
  {
   "cell_type": "code",
   "execution_count": null,
   "metadata": {},
   "outputs": [],
   "source": [
    "#¿Cuantas ocorrencias?\n",
    "edades.count(90)"
   ]
  },
  {
   "cell_type": "code",
   "execution_count": null,
   "metadata": {},
   "outputs": [],
   "source": [
    "#¿Si yo quisiera el índice de la próxima ocorrencia?\n",
    "edades.index(90,9)"
   ]
  },
  {
   "cell_type": "code",
   "execution_count": null,
   "metadata": {},
   "outputs": [],
   "source": [
    "#Una string puede ser convertida en una lista usando la función list()\n",
    "letras = list(\"abacadabra\")"
   ]
  },
  {
   "cell_type": "code",
   "execution_count": null,
   "metadata": {},
   "outputs": [],
   "source": [
    "letras"
   ]
  },
  {
   "cell_type": "code",
   "execution_count": null,
   "metadata": {},
   "outputs": [],
   "source": [
    "letras.count(\"a\")"
   ]
  },
  {
   "cell_type": "code",
   "execution_count": null,
   "metadata": {},
   "outputs": [],
   "source": [
    "#Listas con intervalos - función range\n",
    "numeros_hasta_100 = list(range(0,101))"
   ]
  },
  {
   "cell_type": "code",
   "execution_count": null,
   "metadata": {},
   "outputs": [],
   "source": [
    "print(numeros_hasta_100)"
   ]
  },
  {
   "cell_type": "code",
   "execution_count": null,
   "metadata": {},
   "outputs": [],
   "source": [
    "#Función sum retorna la suma de los elementos de la lista\n",
    "sum(numeros_hasta_100)"
   ]
  },
  {
   "cell_type": "code",
   "execution_count": null,
   "metadata": {},
   "outputs": [],
   "source": [
    "numeros_pares = numeros_hasta_100[::2]"
   ]
  },
  {
   "cell_type": "code",
   "execution_count": null,
   "metadata": {},
   "outputs": [],
   "source": [
    "print(numeros_pares)\n",
    "del(numeros_pares[1])\n",
    "del(numeros_pares[3])\n",
    "del(numeros_pares[5])\n",
    "print(numeros_pares)"
   ]
  },
  {
   "cell_type": "code",
   "execution_count": null,
   "metadata": {},
   "outputs": [],
   "source": [
    "#Strings también acepta la notación de slices\n",
    "nombre = \"José Miguel Pardo\"\n",
    "print(nombre[2:5])\n"
   ]
  },
  {
   "cell_type": "code",
   "execution_count": null,
   "metadata": {},
   "outputs": [],
   "source": [
    "#Función split en strings retorna una lista de substrings separadas por un separador entregado\n",
    "nombres=nombre.split(sep=\" \")\n",
    "print(nombres[-1])"
   ]
  },
  {
   "cell_type": "markdown",
   "metadata": {},
   "source": [
    "### Ejercicio 7:\n"
   ]
  },
  {
   "cell_type": "markdown",
   "metadata": {},
   "source": [
    "Calcule la media de los numeros impares hasta 100 usando range, la função len y la función sum."
   ]
  },
  {
   "cell_type": "code",
   "execution_count": null,
   "metadata": {},
   "outputs": [],
   "source": [
    "# Escriba el código aqui\n"
   ]
  },
  {
   "cell_type": "markdown",
   "metadata": {},
   "source": [
    "### Ejercicio 8:"
   ]
  },
  {
   "cell_type": "markdown",
   "metadata": {},
   "source": [
    "Retorne el último apellido de string nombre ingresado por teclado."
   ]
  },
  {
   "cell_type": "code",
   "execution_count": null,
   "metadata": {},
   "outputs": [],
   "source": [
    "# Escriba el código aqui\n"
   ]
  },
  {
   "cell_type": "markdown",
   "metadata": {},
   "source": [
    "### Ejercicio 9:"
   ]
  },
  {
   "cell_type": "markdown",
   "metadata": {},
   "source": [
    "Genere una lista de los números divisibles por 3 menores que 100 en orden inversa."
   ]
  },
  {
   "cell_type": "code",
   "execution_count": null,
   "metadata": {},
   "outputs": [],
   "source": [
    "# Escriba el código aqui\n"
   ]
  }
 ],
 "metadata": {
  "kernelspec": {
   "display_name": "Python 3",
   "language": "python",
   "name": "python3"
  },
  "language_info": {
   "codemirror_mode": {
    "name": "ipython",
    "version": 3
   },
   "file_extension": ".py",
   "mimetype": "text/x-python",
   "name": "python",
   "nbconvert_exporter": "python",
   "pygments_lexer": "ipython3",
   "version": "3.7.4"
  }
 },
 "nbformat": 4,
 "nbformat_minor": 4
}
