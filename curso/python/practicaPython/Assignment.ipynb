{
 "cells": [
  {
   "cell_type": "code",
   "execution_count": 33,
   "metadata": {},
   "outputs": [],
   "source": [
    "#1: Multilicacion de entero"
   ]
  },
  {
   "cell_type": "code",
   "execution_count": 6,
   "metadata": {},
   "outputs": [
    {
     "name": "stdout",
     "output_type": "stream",
     "text": [
      "Ingrese un nuemro entero-55\n",
      "El resultado es: -165\n"
     ]
    }
   ],
   "source": [
    "a = int(input('Ingrese un nuemro entero: '))\n",
    "\n",
    "print(f'El resultado es: {a*3}')"
   ]
  },
  {
   "cell_type": "code",
   "execution_count": null,
   "metadata": {},
   "outputs": [],
   "source": [
    "#2: Area de un cuarto"
   ]
  },
  {
   "cell_type": "code",
   "execution_count": 7,
   "metadata": {},
   "outputs": [
    {
     "name": "stdout",
     "output_type": "stream",
     "text": [
      "Ingrese longitud de habitacion: 45\n",
      "Ingrese ancho de habitacion: 2\n",
      "El area de la habitacion es 90.0m^2\n"
     ]
    }
   ],
   "source": [
    "l=float(input('Ingrese longitud de habitacion: '))\n",
    "a=float(input('Ingrese ancho de habitacion: '))\n",
    "\n",
    "print(f'El area de la habitacion es {l*a}m^2')"
   ]
  },
  {
   "cell_type": "code",
   "execution_count": null,
   "metadata": {},
   "outputs": [],
   "source": [
    "#3: Volumen de un cilindro"
   ]
  },
  {
   "cell_type": "code",
   "execution_count": 10,
   "metadata": {},
   "outputs": [
    {
     "name": "stdout",
     "output_type": "stream",
     "text": [
      "Ingrese el radio: 5\n",
      "Ingrese el altura: 10\n",
      "El volumen del cilindro es785.3981633974482\n"
     ]
    }
   ],
   "source": [
    "from math import pi\n",
    "\n",
    "r = float(input('Ingrese el radio: '))\n",
    "a = float(input('Ingrese el altura: '))\n",
    "\n",
    "print(f\"El volumen del cilindro es {r*r*a*pi}m^3\")"
   ]
  },
  {
   "cell_type": "code",
   "execution_count": null,
   "metadata": {},
   "outputs": [],
   "source": [
    "#4: Fueza de atraccion entre dos cuerpos"
   ]
  },
  {
   "cell_type": "code",
   "execution_count": 14,
   "metadata": {},
   "outputs": [
    {
     "name": "stdout",
     "output_type": "stream",
     "text": [
      "Primera masa en gramos: 15\n",
      "Segunda masa en gramos: 40\n",
      "Distancia entre las masas en centimetros: 4\n",
      "La fuerza gravitatoria entre las masas es de : 2.5023750000000003e-06cm^3/g*seg^2 \n"
     ]
    }
   ],
   "source": [
    "m1=float(input(\"Primera masa en gramos: \"))\n",
    "m2=float(input(\"Segunda masa en gramos: \"))\n",
    "d=float(input(\"Distancia entre las masas en centimetros: \"))\n",
    "\n",
    "g=6.673*(10**-8)\n",
    "print(f\"La fuerza gravitatoria entre las masas es de : {(g*m1*m2)/d**2} cm^3/g*seg^2 \")"
   ]
  },
  {
   "cell_type": "code",
   "execution_count": null,
   "metadata": {},
   "outputs": [],
   "source": [
    "#5: Energia producida por una masa al convertirse en luz"
   ]
  },
  {
   "cell_type": "code",
   "execution_count": 16,
   "metadata": {},
   "outputs": [
    {
     "name": "stdout",
     "output_type": "stream",
     "text": [
      "Introduzca la masa en gramos: 45\n",
      "La energia liberada es : 2731859156250000.0 erg\n"
     ]
    }
   ],
   "source": [
    "m=float(input(\"Introduzca la masa en gramos: \"))\n",
    "c=2.997925*(10**10)\n",
    "\n",
    "print(f\"La energia liberada es : {c*(m**3)} erg\")"
   ]
  },
  {
   "cell_type": "code",
   "execution_count": null,
   "metadata": {},
   "outputs": [],
   "source": [
    "#6: Conversion de hora"
   ]
  },
  {
   "cell_type": "code",
   "execution_count": 32,
   "metadata": {},
   "outputs": [
    {
     "name": "stdout",
     "output_type": "stream",
     "text": [
      "Ingresar hora: 15:30\n",
      "03:30\n"
     ]
    }
   ],
   "source": [
    "a=input('Ingresar hora: ')\n",
    "\n",
    "a = a.split(sep=\":\")\n",
    "\n",
    "if len(a)!=2 or int(a[0]) > 24 or int(a[1]) > 59:\n",
    "    print(\"Esto no es una hora\")\n",
    "else:\n",
    "    if int(a[0]) > 12:\n",
    "        b=int(a[0])-12\n",
    "        a[0]=str(b)\n",
    "        a.append('PM')\n",
    "    else:\n",
    "        a.append('AM')\n",
    "    if int(a[0]) <= 9:\n",
    "        a[0]=\"0\"+a[0]\n",
    "    if int(a[1]) <= 9:\n",
    "        a[1]=\"0\"+a[0]\n",
    "print(a[0]+\":\"+a[1])"
   ]
  },
  {
   "cell_type": "code",
   "execution_count": null,
   "metadata": {},
   "outputs": [],
   "source": [
    "#7: Escribir en un archivo"
   ]
  },
  {
   "cell_type": "code",
   "execution_count": 25,
   "metadata": {},
   "outputs": [
    {
     "name": "stdout",
     "output_type": "stream",
     "text": [
      "Introdusca el numero A: 50\n"
     ]
    }
   ],
   "source": [
    "import os\n",
    "\n",
    "a=int(input(\"Introdusca el numero A: \"))\n",
    "\n",
    "b=a+10\n",
    "c=2*b+a\n",
    "d=a+b+c+5\n",
    "file = open(\"/home/camilo/42285/certificacionPython/curso/python/practicaPython/practica01.out\",\"w\")\n",
    "file.write(\"Ejercicio 9.\"+os.linesep)\n",
    "file.write(f\"A= {a}\"+os.linesep)\n",
    "file.write(f\"B= {b}\"+os.linesep)\n",
    "file.write(f\"C= {c}\"+os.linesep)\n",
    "file.write(f\"D= {d}\"+os.linesep)\n",
    "file.close()\n",
    "print('escrito')"
   ]
  },
  {
   "cell_type": "code",
   "execution_count": null,
   "metadata": {},
   "outputs": [],
   "source": [
    "#8 Numero absoluto y decimal"
   ]
  },
  {
   "cell_type": "code",
   "execution_count": 26,
   "metadata": {},
   "outputs": [
    {
     "name": "stdout",
     "output_type": "stream",
     "text": [
      "Ingrese el nuemro float: 12.05\n"
     ]
    }
   ],
   "source": [
    "import os\n",
    "\n",
    "n=float(input(\"Ingrese el nuemro float: \"))\n",
    "\n",
    "nl=str(n).split(sep=\".\")\n",
    "file=open(\"/home/camilo/42285/certificacionPython/curso/python/practicaPython/practica01.out\",\"w\")\n",
    "file.write(\"Ejercicio 8.\"+os.linesep)\n",
    "file.write(f\"Numero: {n}\"+os.linesep)\n",
    "file.write(f\"Valor Absoluto: {nl[0]}\"+os.linesep)\n",
    "file.write(f\"Parte decimal: {nl[1]}\"+os.linesep)\n",
    "file.close()\n",
    "print('escrito')"
   ]
  },
  {
   "cell_type": "code",
   "execution_count": null,
   "metadata": {},
   "outputs": [],
   "source": [
    "#9: Menor y mayor"
   ]
  },
  {
   "cell_type": "code",
   "execution_count": 30,
   "metadata": {},
   "outputs": [
    {
     "name": "stdout",
     "output_type": "stream",
     "text": [
      "Introdusca a: 45\n",
      "Introdusca b: 5\n",
      "Introdusca c: 1\n",
      "Introdusca d: 2\n"
     ]
    }
   ],
   "source": [
    "import os\n",
    "\n",
    "a=int(input('Introdusca a: '))\n",
    "b=int(input('Introdusca b: '))\n",
    "c=int(input('Introdusca c: '))\n",
    "d=int(input('Introdusca d: '))\n",
    "l=[]\n",
    "\n",
    "l.append(a)\n",
    "l.append(b)\n",
    "l.append(c)\n",
    "l.append(d)\n",
    "\n",
    "mi=min(l)\n",
    "\n",
    "f=open(\"/home/camilo/42285/certificacionPython/curso/python/practicaPython/practica01.out\",\"w\")\n",
    "f.write(f\"Numero mayor: {max(l)} \\n\")\n",
    "f.write(f\"Numero menor: {min(l)} \\n\")\n",
    "f.close()"
   ]
  },
  {
   "cell_type": "code",
   "execution_count": null,
   "metadata": {},
   "outputs": [],
   "source": [
    "#10: Ecuacion X Y Z"
   ]
  },
  {
   "cell_type": "code",
   "execution_count": 32,
   "metadata": {},
   "outputs": [
    {
     "name": "stdout",
     "output_type": "stream",
     "text": [
      "Ingresar x: 15\n",
      "Ingresar y: 2\n",
      "Ingresar z: 10\n"
     ]
    }
   ],
   "source": [
    "import os\n",
    "\n",
    "x=int(input(\"Ingresar x: \"))\n",
    "y=int(input(\"Ingresar y: \"))\n",
    "z=int(input(\"Ingresar z: \"))\n",
    "\n",
    "a = x**2 + y**2 + z**2 \n",
    "if a < 100 and y<5:\n",
    "    b = (x+y)**2 - (x*z)\n",
    "else:\n",
    "    b = (x-y)**2 + (x*z)\n",
    "\n",
    "f=open(\"/home/camilo/42285/certificacionPython/curso/python/practicaPython/practica01.out\",\"w\")\n",
    "f.write(f\"Numero A: {a} \\n\")\n",
    "f.write(f\"Numero B: {b} \\n\")\n",
    "f.close()"
   ]
  }
 ],
 "metadata": {
  "kernelspec": {
   "display_name": "Python 3",
   "language": "python",
   "name": "python3"
  },
  "language_info": {
   "codemirror_mode": {
    "name": "ipython",
    "version": 3
   },
   "file_extension": ".py",
   "mimetype": "text/x-python",
   "name": "python",
   "nbconvert_exporter": "python",
   "pygments_lexer": "ipython3",
   "version": "3.7.4"
  }
 },
 "nbformat": 4,
 "nbformat_minor": 2
}
